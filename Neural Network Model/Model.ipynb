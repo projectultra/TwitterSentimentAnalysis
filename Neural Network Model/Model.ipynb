{
  "cells": [
    {
      "cell_type": "code",
      "execution_count": 3,
      "metadata": {
        "id": "97p7VLIhk1z0"
      },
      "outputs": [],
      "source": [
        "import re\n",
        "import numpy as np\n",
        "import pandas as pd\n",
        "import nltk\n",
        "import matplotlib.pyplot as plt\n",
        "import tensorflow as tf\n",
        "import keras\n",
        "import matplotlib.pyplot as plt\n",
        "import nltk\n",
        "import seaborn as sns\n",
        "import pickle\n",
        "from keras import layers\n",
        "from sklearn.model_selection import train_test_split\n",
        "from keras.preprocessing.text import Tokenizer\n",
        "from keras.utils import pad_sequences\n",
        "from sklearn.metrics import precision_recall_curve\n",
        "from wordcloud import WordCloud\n",
        "from nltk.corpus import stopwords\n",
        "from sklearn.metrics import confusion_matrix, classification_report\n",
        "\n"
      ]
    },
    {
      "cell_type": "code",
      "execution_count": null,
      "metadata": {
        "id": "b_hvixPS3jJ0"
      },
      "outputs": [],
      "source": [
        "#package import\n",
        "rawdata=pd.read_csv('twitter_final_Dataset.csv',low_memory=False)\n",
        "#data import"
      ]
    },
    {
      "cell_type": "code",
      "execution_count": null,
      "metadata": {
        "id": "SH64uW6jlKdX"
      },
      "outputs": [],
      "source": [
        "rawdata = rawdata.sample(frac=1).reset_index(drop=True)\n",
        "split_idx = int(0.8 * len(rawdata))\n",
        "\n",
        "train = rawdata.iloc[:split_idx]\n",
        "test = rawdata.iloc[split_idx:]\n",
        "\n",
        "train.to_csv('training_data.csv', index=False)\n",
        "test.to_csv('testing_data.csv', index=False)"
      ]
    },
    {
      "cell_type": "code",
      "source": [
        "train=pd.read_csv('/content/training_dataset.csv')\n",
        "test=pd.read_csv('/content/testing_dataset.csv')\n",
        "#refining the data\n",
        "train=train.dropna()\n",
        "test=test.dropna()"
      ],
      "metadata": {
        "id": "VOXSWBGyA6Cc"
      },
      "execution_count": 6,
      "outputs": []
    },
    {
      "cell_type": "code",
      "execution_count": 8,
      "metadata": {
        "id": "AYA89wTElA1W"
      },
      "outputs": [],
      "source": [
        "#function to clean data\n",
        "def cleannuptext(tweet):\n",
        "  #removes urls\n",
        "  tweet = re.sub(r'http\\S+','',tweet)\n",
        "\n",
        "  tweet=re.sub(r'@\\w+\\s','',tweet)\n",
        "  #remove usernames\n",
        "  \n",
        "  tweet = re.sub(r'[^\\w\\s]','',tweet).lower()\n",
        "  #remove punctuation and makes it lowercase\n",
        "    \n",
        "  tweet = ' '.join([w for w in tweet.split() if len(w)>2])\n",
        "  #remove words with len less than 2\n",
        "  \n",
        "  #tokenize the words\n",
        "  tokenized_tweet = nltk.word_tokenize(tweet)\n",
        "  lemmatizer = nltk.stem.WordNetLemmatizer()\n",
        "  tweet = ' '.join([lemmatizer.lemmatize(w) for w in tokenized_tweet])\n",
        "  return tweet"
      ]
    },
    {
      "cell_type": "code",
      "execution_count": null,
      "metadata": {
        "id": "M0td41iclVRE"
      },
      "outputs": [],
      "source": [
        "train['tweet'] = train['tweet'].apply(cleannuptext)\n",
        "test['tweet'] = test['tweet'].apply(cleannuptext)"
      ]
    },
    {
      "cell_type": "code",
      "execution_count": null,
      "metadata": {
        "id": "yuoFT-AFlVGq"
      },
      "outputs": [],
      "source": [
        "#final test and train dataset\n",
        "train.to_csv('training_dataset.csv', index=False)\n",
        "test.to_csv('testing_dataset.csv', index=False)"
      ]
    },
    {
      "cell_type": "code",
      "execution_count": 12,
      "metadata": {
        "id": "iY6FVXcJqzUn"
      },
      "outputs": [],
      "source": [
        "max_words = 10000\n",
        "#max words denotes the max number that can be converted to\n",
        "max_len = 20\n",
        "#max len denotes the no of words in a tweet to be represented as token\n",
        "vectorizer = keras.layers.TextVectorization(max_tokens=max_words, output_mode='int', output_sequence_length=max_len)\n",
        "with open('vocab.pkl', 'rb') as f:\n",
        "    vocab = pickle.load(f)\n",
        "#vectorizer.adapt(train['tweet'])\n",
        "vectorizer.set_vocabulary(vocab)\n",
        "\n",
        "train_labels = train['sentiment'].astype(float).astype(int).values\n",
        "train_labels = keras.utils.to_categorical(train_labels,2,dtype=\"float32\")\n",
        "\n",
        "test_labels = test['sentiment'].astype(float).astype(int).values\n",
        "test_labels = keras.utils.to_categorical(test_labels,2,dtype=\"float32\")\n",
        "\n",
        "train_vectorized = vectorizer(train['tweet'])\n",
        "test_vectorized= vectorizer(test['tweet'])"
      ]
    },
    {
      "cell_type": "code",
      "execution_count": 15,
      "metadata": {
        "id": "uL5E9Cb28H9p"
      },
      "outputs": [],
      "source": [
        "X_train,X_test,y_train,y_test=train_test_split(train_vectorized.numpy(),train_labels, test_size=0.8)\n",
        "#Splitting training data with 80:20 split"
      ]
    },
    {
      "cell_type": "code",
      "execution_count": 14,
      "metadata": {
        "id": "0hi-XWVb9AGc"
      },
      "outputs": [],
      "source": [
        "def modelbuild():\n",
        "    model = keras.models.Sequential()\n",
        "    model.add(layers.Embedding(max_words, 32, input_length=max_len))\n",
        "    model.add(layers.Conv1D(32,2, padding='same', activation='relu'))\n",
        "    model.add(layers.MaxPooling1D(pool_size=2))\n",
        "    model.add(layers.LSTM(32))\n",
        "    model.add(layers.Dropout(0.5))\n",
        "    model.add(layers.Dense(2, activation='softmax'))\n",
        "    model.compile(optimizer='adam', loss='binary_crossentropy', metrics=['accuracy'])\n",
        "    return model\n",
        "model=modelbuild()"
      ]
    },
    {
      "cell_type": "code",
      "execution_count": 16,
      "metadata": {
        "colab": {
          "base_uri": "https://localhost:8080/"
        },
        "id": "eGMbBo2I9RBX",
        "outputId": "21b8595e-437b-488a-9aa4-bca73902dc7c"
      },
      "outputs": [
        {
          "output_type": "stream",
          "name": "stdout",
          "text": [
            "Epoch 1/10\n",
            "25851/25851 [==============================] - 466s 18ms/step - loss: 0.4652 - accuracy: 0.7801 - val_loss: 0.4216 - val_accuracy: 0.8046\n",
            "Epoch 2/10\n",
            "25851/25851 [==============================] - 486s 19ms/step - loss: 0.4125 - accuracy: 0.8121 - val_loss: 0.4152 - val_accuracy: 0.8107\n",
            "Epoch 3/10\n",
            "25851/25851 [==============================] - 492s 19ms/step - loss: 0.3920 - accuracy: 0.8231 - val_loss: 0.4100 - val_accuracy: 0.8119\n",
            "Epoch 4/10\n",
            "25851/25851 [==============================] - 502s 19ms/step - loss: 0.3775 - accuracy: 0.8316 - val_loss: 0.4119 - val_accuracy: 0.8123\n",
            "Epoch 5/10\n",
            "25850/25851 [============================>.] - ETA: 0s - loss: 0.3658 - accuracy: 0.8381Restoring model weights from the end of the best epoch: 3.\n",
            "25851/25851 [==============================] - 468s 18ms/step - loss: 0.3658 - accuracy: 0.8381 - val_loss: 0.4185 - val_accuracy: 0.8122\n",
            "Epoch 5: early stopping\n",
            "17234/17234 - 51s - loss: 0.4100 - accuracy: 0.8119 - 51s/epoch - 3ms/step\n",
            "Model accuracy on validation data:  0.8119114637374878\n"
          ]
        }
      ],
      "source": [
        "stop = keras.callbacks.EarlyStopping(monitor='val_loss', patience=2, verbose=1, restore_best_weights=True)\n",
        "#safety to prevent overfitting, when val loss increases and restores the weights\n",
        "\n",
        "history = model.fit(X_train, y_train, epochs=10,validation_data=(X_test, y_test),callbacks=[stop])\n",
        "#training the model\n",
        "\n",
        "test_loss, test_acc = model.evaluate(X_test, y_test, verbose=2)\n",
        "print('Model accuracy on validation data: ',test_acc)"
      ]
    },
    {
      "cell_type": "code",
      "execution_count": 17,
      "metadata": {
        "id": "DtSlxf2-9iOW",
        "colab": {
          "base_uri": "https://localhost:8080/"
        },
        "outputId": "cd3b5d75-215d-4157-d5ce-63d4d2987b46"
      },
      "outputs": [
        {
          "name": "stdout",
          "output_type": "stream",
          "text": [
            "10772/10772 [==============================] - 41s 4ms/step - loss: 0.4120 - accuracy: 0.8107\n",
            "Model accuracy on testing data:  0.8106945157051086\n",
            "Want to save model?\n",
            "y\n"
          ]
        },
        {
          "output_type": "stream",
          "name": "stderr",
          "text": [
            "WARNING:absl:Found untraced functions such as _jit_compiled_convolution_op, _update_step_xla, lstm_cell_layer_call_fn, lstm_cell_layer_call_and_return_conditional_losses while saving (showing 4 of 4). These functions will not be directly callable after loading.\n"
          ]
        }
      ],
      "source": [
        "test_loss, test_acc = model.evaluate(test_vectorized.numpy(),test_labels, verbose=1)\n",
        "print('Model accuracy on testing data: ',test_acc)\n",
        "print(\"Want to save model?\")\n",
        "c=input()\n",
        "if c=='y':\n",
        "  keras.Model.save(model,'/content/models')"
      ]
    },
    {
      "cell_type": "code",
      "execution_count": 21,
      "metadata": {
        "id": "9abae6Xw9nPA",
        "colab": {
          "base_uri": "https://localhost:8080/"
        },
        "outputId": "20dce0df-d4f6-4162-9665-841b32c9e763"
      },
      "outputs": [
        {
          "output_type": "stream",
          "name": "stdout",
          "text": [
            "17234/17234 [==============================] - 63s 4ms/step\n"
          ]
        }
      ],
      "source": [
        "y_pred=model.predict(X_test)\n",
        "max_idx = np.arange(y_pred.shape[0]), np.argmax(y_pred, axis=1)\n",
        "bool_array = np.zeros_like(y_pred)\n",
        "bool_array[max_idx] = 1"
      ]
    },
    {
      "cell_type": "code",
      "execution_count": 22,
      "metadata": {
        "id": "Nygxs5uG9n9Q",
        "colab": {
          "base_uri": "https://localhost:8080/",
          "height": 700
        },
        "outputId": "2fcac3a3-09dd-418a-db54-f7941df34771"
      },
      "outputs": [
        {
          "output_type": "stream",
          "name": "stdout",
          "text": [
            "              precision    recall  f1-score   support\n",
            "\n",
            "           0       0.80      0.83      0.81    272642\n",
            "           1       0.83      0.79      0.81    278827\n",
            "\n",
            "   micro avg       0.81      0.81      0.81    551469\n",
            "   macro avg       0.81      0.81      0.81    551469\n",
            "weighted avg       0.81      0.81      0.81    551469\n",
            " samples avg       0.81      0.81      0.81    551469\n",
            "\n"
          ]
        },
        {
          "output_type": "execute_result",
          "data": {
            "text/plain": [
              "Text(0.5, 1.0, 'Confusion Matrix')"
            ]
          },
          "metadata": {},
          "execution_count": 22
        },
        {
          "output_type": "display_data",
          "data": {
            "text/plain": [
              "<Figure size 640x480 with 2 Axes>"
            ],
            "image/png": "[encoded data removed]"
          },
          "metadata": {}
        }
      ],
      "source": [
        "# Print the evaluation metrics for the dataset.\n",
        "\n",
        "print(classification_report(y_test,bool_array))\n",
        "# Compute and plot the Confusion matrix\n",
        "cf_matrix = confusion_matrix(y_test.argmax(axis=1),bool_array.argmax(axis=1))\n",
        "categories = ['Negative','Positive']\n",
        "group_names = ['True Neg','False Pos', 'False Neg','True Pos']\n",
        "group_percentages = ['{0:.2%}'.format(value) for value in cf_matrix.flatten() / np.sum(cf_matrix)]\n",
        "labels = [f'{v1}n{v2}' for v1, v2 in zip(group_names,group_percentages)]\n",
        "labels = np.asarray(labels).reshape(2,2)\n",
        "sns.heatmap(cf_matrix, annot = labels, cmap = 'Blues',fmt = '',xticklabels = categories, yticklabels = categories)\n",
        "plt.xlabel(\"Predicted values\", fontdict = {'size':14}, labelpad = 10)\n",
        "plt.ylabel(\"Actual values\" , fontdict = {'size':14}, labelpad = 10)\n",
        "plt.title (\"Confusion Matrix\", fontdict = {'size':18}, pad = 20)"
      ]
    }
  ],
  "metadata": {
    "colab": {
      "provenance": []
    },
    "kernelspec": {
      "display_name": "Python 3",
      "name": "python3"
    },
    "language_info": {
      "name": "python"
    }
  },
  "nbformat": 4,
  "nbformat_minor": 0
}